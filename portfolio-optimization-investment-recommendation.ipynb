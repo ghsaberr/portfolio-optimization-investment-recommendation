{
 "cells": [
  {
   "cell_type": "markdown",
   "id": "96c34ede-ec25-41ec-84b0-96b716bb4292",
   "metadata": {},
   "source": [
    "# Portfolio Optimization & Investment Recommendation"
   ]
  },
  {
   "cell_type": "code",
   "execution_count": null,
   "id": "3618a01b-05dd-479d-804e-acc2c73461fb",
   "metadata": {},
   "outputs": [],
   "source": []
  }
 ],
 "metadata": {
  "kernelspec": {
   "display_name": "Python 3 (ipykernel)",
   "language": "python",
   "name": "python3"
  },
  "language_info": {
   "codemirror_mode": {
    "name": "ipython",
    "version": 3
   },
   "file_extension": ".py",
   "mimetype": "text/x-python",
   "name": "python",
   "nbconvert_exporter": "python",
   "pygments_lexer": "ipython3",
   "version": "3.13.2"
  }
 },
 "nbformat": 4,
 "nbformat_minor": 5
}
